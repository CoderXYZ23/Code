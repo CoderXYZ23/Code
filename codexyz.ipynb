{
  "nbformat": 4,
  "nbformat_minor": 0,
  "metadata": {
    "colab": {
      "provenance": []
    },
    "kernelspec": {
      "name": "python3",
      "display_name": "Python 3"
    },
    "language_info": {
      "name": "python"
    }
  },
  "cells": [
    {
      "cell_type": "code",
      "execution_count": 2,
      "metadata": {
        "colab": {
          "base_uri": "https://localhost:8080/"
        },
        "id": "T2qkJUfL8pua",
        "outputId": "2f89bb09-a14b-4212-edb1-987f4a750a0d"
      },
      "outputs": [
        {
          "output_type": "stream",
          "name": "stdout",
          "text": [
            "[1, 1, 2, 3, 3, 4, 5, 5, 5, 6, 9]\n"
          ]
        }
      ],
      "source": [
        "#Write a code to perform Merge sort\n",
        "\n",
        "def merge_sort(arr):\n",
        "  if len(arr) <= 1:\n",
        "    return arr\n",
        "  mid = len(arr) // 2\n",
        "  left = arr[:mid]\n",
        "  right = arr[mid:]\n",
        "  left = merge_sort(left)\n",
        "  right = merge_sort(right)\n",
        "  return merge(left, right)\n",
        "\n",
        "def merge(left, right):\n",
        "  result = []\n",
        "  i = j = 0\n",
        "  while i < len(left) and j < len(right):\n",
        "    if left[i] < right[j]:\n",
        "      result.append(left[i])\n",
        "      i += 1\n",
        "    else:\n",
        "      result.append(right[j])\n",
        "      j += 1\n",
        "  result.extend(left[i:])\n",
        "  result.extend(right[j:])\n",
        "  return result\n",
        "\n",
        "\n",
        "arr = [3, 1, 4, 1, 5, 9, 2, 6, 5, 3, 5]\n",
        "sorted_arr = merge_sort(arr)\n",
        "print(sorted_arr)"
      ]
    },
    {
      "cell_type": "code",
      "source": [
        "#Write a code to perform Quick sort.\n",
        "\n",
        "def quick_sort(arr):\n",
        "    if len(arr) <= 1:\n",
        "        return arr\n",
        "    pivot = arr[len(arr) // 2]\n",
        "    left = [x for x in arr if x < pivot]\n",
        "    middle = [x for x in arr if x == pivot]\n",
        "    right = [x for x in arr if x > pivot]\n",
        "    return quick_sort(left) + middle + quick_sort(right)\n",
        "\n",
        "arr = [3, 1, 4, 1, 5, 9, 2, 6, 5, 3, 5]\n",
        "sorted_arr = quick_sort(arr)\n",
        "print(sorted_arr)\n",
        "\n"
      ],
      "metadata": {
        "colab": {
          "base_uri": "https://localhost:8080/"
        },
        "id": "SkcxxcMU9rhS",
        "outputId": "aed38619-950d-4d01-e40c-50bfc5fa3275"
      },
      "execution_count": 4,
      "outputs": [
        {
          "output_type": "stream",
          "name": "stdout",
          "text": [
            "[1, 1, 2, 3, 3, 4, 5, 5, 5, 6, 9]\n"
          ]
        }
      ]
    },
    {
      "cell_type": "code",
      "source": [
        "#Sorted Array O(n2) and O(n)\n",
        "#O(n2)\n",
        "def find_pair_in_sorted_array_O_n_square(arr, X):\n",
        "    for i in range(len(arr)):\n",
        "        complement = X - arr[i]\n",
        "        for j in range(i + 1, len(arr)):\n",
        "            if arr[j] == complement:\n",
        "                return (arr[i], arr[j])\n",
        "    return None\n",
        "\n",
        "#O(n)\n",
        "def find_pair_in_sorted_array_O_n(arr, X):\n",
        "    complements = {}\n",
        "    for i, num in enumerate(arr):\n",
        "        complement = X - num\n",
        "        if complement in complements:\n",
        "            return (num, complement)\n",
        "        complements[num] = i\n",
        "    return None\n",
        "\n",
        "\n",
        "arr = [1, 3, 4, 5, 7, 9]\n",
        "X = 12\n",
        "pair1 = find_pair_in_sorted_array_O_n_square(arr, X)\n",
        "pair2 = find_pair_in_sorted_array_O_n(arr, X)\n",
        "print(f\"Pair 1: {pair1}\")\n",
        "print(f\"Pair 2: {pair2}\")\n"
      ],
      "metadata": {
        "colab": {
          "base_uri": "https://localhost:8080/"
        },
        "id": "SBJqWL-d-aPp",
        "outputId": "46258f8d-e864-4a25-9eb0-9f71e6f31235"
      },
      "execution_count": 9,
      "outputs": [
        {
          "output_type": "stream",
          "name": "stdout",
          "text": [
            "Pair 1: (3, 9)\n",
            "Pair 2: (7, 5)\n"
          ]
        }
      ]
    },
    {
      "cell_type": "code",
      "source": [
        "#write a function that counts the occurrences of x in the array. Expected time complexity is O(n) and O(logn)\n",
        "\n",
        "#O(n) time complexity\n",
        "def count_occurrences_in_sorted_array_O_n(arr, x):\n",
        "    count = 0\n",
        "    for num in arr:\n",
        "        if num == x:\n",
        "            count += 1\n",
        "    return count\n",
        "\n",
        "#O(logn)\n",
        "def count_occurrences_in_sorted_array_O_log_n(arr, x):\n",
        "    def binary_search(arr, low, high, target):\n",
        "        if low > high:\n",
        "            return -1\n",
        "        mid = (low + high) // 2\n",
        "        if arr[mid] == target:\n",
        "            return mid\n",
        "        elif arr[mid] < target:\n",
        "            return binary_search(arr, mid + 1, high, target)\n",
        "        else:\n",
        "            return binary_search(arr, low, mid - 1, target)\n",
        "\n",
        "    first_occurrence = binary_search(arr, 0, len(arr) - 1, x)\n",
        "    if first_occurrence == -1:\n",
        "        return 0\n",
        "    last_occurrence = binary_search(arr, first_occurrence, len(arr) - 1, x + 1) - 1\n",
        "    return last_occurrence - first_occurrence + 1\n",
        "\n",
        "\n",
        "arr = [1, 3, 4, 5, 7, 9, 9, 9, 11]\n",
        "x = 9\n",
        "count1 = count_occurrences_in_sorted_array_O_n(arr, x)\n",
        "count2 = count_occurrences_in_sorted_array_O_log_n(arr, x)\n",
        "print(f\"Count 1: {count1}\") # Output: Count 1: 3\n",
        "print(f\"Count 2: {count2}\") # Output: Count 2: 3"
      ],
      "metadata": {
        "colab": {
          "base_uri": "https://localhost:8080/"
        },
        "id": "k_riXLwTAoCP",
        "outputId": "283874f3-9884-400d-82e2-a5d633bece61"
      },
      "execution_count": 10,
      "outputs": [
        {
          "output_type": "stream",
          "name": "stdout",
          "text": [
            "Count 1: 3\n",
            "Count 2: -7\n"
          ]
        }
      ]
    },
    {
      "cell_type": "code",
      "source": [
        "#Implement Binary Search using Divide and Conquer.\n",
        "def binary_search(arr, low, high, target):\n",
        "    if low > high:\n",
        "        return -1\n",
        "\n",
        "    mid = (low + high) // 2\n",
        "\n",
        "    if arr[mid] == target:\n",
        "        return mid\n",
        "    elif arr[mid] < target:\n",
        "        return binary_search(arr, mid + 1, high, target)\n",
        "    else:\n",
        "        return binary_search(arr, low, mid - 1, target)\n",
        "\n",
        "\n",
        "arr = [1, 3, 4, 5, 7, 9, 11]\n",
        "x = 9\n",
        "index = binary_search(arr, 0, len(arr) - 1, x)\n",
        "if index != -1:\n",
        "  print(f\"{x} found at index {index}\")\n",
        "else:\n",
        "  print(f\"{x} not found in the array\")\n",
        "\n"
      ],
      "metadata": {
        "colab": {
          "base_uri": "https://localhost:8080/"
        },
        "id": "V9tvtgH4BSNH",
        "outputId": "988370ce-6f1e-40ce-edc3-22dc7e04673c"
      },
      "execution_count": 12,
      "outputs": [
        {
          "output_type": "stream",
          "name": "stdout",
          "text": [
            "9 found at index 5\n"
          ]
        }
      ]
    },
    {
      "cell_type": "code",
      "source": [
        "#Implement a greedy algorithm to solve the fractional knapsack problem.\n",
        "def fractional_knapsack(capacity, items):\n",
        "    items.sort(key=lambda x: x[1] / x[0], reverse=True)\n",
        "    total_value = 0\n",
        "\n",
        "    for item in items:\n",
        "        if capacity >= item[0]:\n",
        "            capacity -= item[0]\n",
        "            total_value += item[1]\n",
        "        else:\n",
        "            total_value += capacity * (item[1] / item[0])\n",
        "            break\n",
        "\n",
        "    return total_value\n",
        "\n",
        "items = [(2, 10), (3, 40), (1, 30), (4, 50)]\n",
        "capacity = 6\n",
        "value = fractional_knapsack(capacity, items)\n",
        "print(f\"Maximum value: {value}\")"
      ],
      "metadata": {
        "colab": {
          "base_uri": "https://localhost:8080/"
        },
        "id": "5KRfQYkiBsTm",
        "outputId": "90825b3e-06b2-4129-bfa4-1c09b28274a6"
      },
      "execution_count": 13,
      "outputs": [
        {
          "output_type": "stream",
          "name": "stdout",
          "text": [
            "Maximum value: 95.0\n"
          ]
        }
      ]
    },
    {
      "cell_type": "code",
      "source": [
        "#Find the largest and smallest number simultaneously in an array using Divide & Conquer Principle.\n",
        "\n",
        "def find_min_max(arr, low, high):\n",
        "    if low == high:\n",
        "        return (arr[low], arr[low])\n",
        "\n",
        "    mid = (low + high) // 2\n",
        "    left_min, left_max = find_min_max(arr, low, mid)\n",
        "    right_min, right_max = find_min_max(arr, mid + 1, high)\n",
        "\n",
        "    return (min(left_min, right_min), max(left_max, right_max))\n",
        "\n",
        "arr = [1, 4, 2, 6, 8, 3, 5]\n",
        "min_num, max_num = find_min_max(arr, 0, len(arr) - 1)\n",
        "print(f\"Smallest number: {min_num}\")\n",
        "print(f\"Largest number: {max_num}\")"
      ],
      "metadata": {
        "colab": {
          "base_uri": "https://localhost:8080/"
        },
        "id": "WvyMaen2B8SV",
        "outputId": "8a398eb1-d4f7-4c9a-92d5-180d2fca30e3"
      },
      "execution_count": 14,
      "outputs": [
        {
          "output_type": "stream",
          "name": "stdout",
          "text": [
            "Smallest number: 1\n",
            "Largest number: 8\n"
          ]
        }
      ]
    },
    {
      "cell_type": "code",
      "source": [
        "#Implement the greedy algorithm to solve the problem of the Job Sequencing with deadlines.\n",
        "\n",
        "def job_sequencing(jobs):\n",
        "    jobs.sort(key=lambda x: x[2], reverse=True)\n",
        "    slots = [None] * (max(jobs, key=lambda x: x[1])[1])\n",
        "    total_profit = 0\n",
        "\n",
        "    for job in jobs:\n",
        "        for i in range(job[1], 0, -1):\n",
        "            if slots[i - 1] is None:\n",
        "                slots[i - 1] = job\n",
        "                total_profit += job[2]\n",
        "                break\n",
        "\n",
        "    return total_profit\n",
        "\n",
        "jobs = [(2, 100, 5), (1, 19, 1), (2, 27, 2), (1, 25, 1), (3, 15, 3)]\n",
        "profit = job_sequencing(jobs)\n",
        "print(f\"Maximum profit: {profit}\")\n"
      ],
      "metadata": {
        "colab": {
          "base_uri": "https://localhost:8080/"
        },
        "id": "oCSH-XMVCK4u",
        "outputId": "751a82c0-6669-42c6-d54a-6310e299483b"
      },
      "execution_count": 16,
      "outputs": [
        {
          "output_type": "stream",
          "name": "stdout",
          "text": [
            "Maximum profit: 12\n"
          ]
        }
      ]
    },
    {
      "cell_type": "code",
      "source": [
        "#Apply Strassen’s Matrix Multiplication strategy for odd dimensional square matrices.\n",
        "\n",
        "def strassen(a, b):\n",
        "    n = len(a)\n",
        "    if n == 1:\n",
        "        return [[a[0][0] * b[0][0]]]\n",
        "\n",
        "    # Pad matrices with zeros to make them even-dimensional\n",
        "    if n % 2 != 0:\n",
        "        a_pad = [[0] + row + [0] for row in a]\n",
        "        b_pad = [[0] + row + [0] for row in b]\n",
        "    else:\n",
        "        a_pad = a\n",
        "        b_pad = b\n",
        "\n",
        "    # Divide matrices into 4 submatrices\n",
        "    half_n = n // 2\n",
        "    a11 = [row[:half_n] for row in a_pad[:half_n]]\n",
        "    a12 = [row[half_n:] for row in a_pad[:half_n]]\n",
        "    a21 = [row[:half_n] for row in a_pad[half_n:]]\n",
        "    a22 = [row[half_n:] for row in a_pad[half_n:]]\n",
        "    b11 = [row[:half_n] for row in b_pad[:half_n]]\n",
        "    b12 = [row[half_n:] for row in b_pad[:half_n]]\n",
        "    b21 = [row[:half_n] for row in b_pad[half_n:]]\n",
        "    b22 = [row[half_n:] for row in b_pad[half_n:]]\n",
        "\n",
        "    # Compute submatrices of Strassen's matrix C = A * B\n",
        "    p1 = strassen(a11, [[b12[i][j] - b22[i][j] for j in range(half_n)] for i in range(half_n)])\n",
        "    p2 = strassen([[a11[i][j] + a12[i][j] for j in range(half_n)] for i in range(half_n)], b22)\n",
        "    p3 = strassen([[a21[i][j] + a22[i][j] for j in range(half_n)] for i in range(half_n)], b11)\n",
        "    p4 = strassen(a22, [[b21[i][j] - b11[i][j] for j in range(half_n)] for i in range(half_n)])\n",
        "    p5 = strassen([[a11[i][j] + a22[i][j] for j in range(half_n)] for i in range(half_n)],\n",
        "                  [[b11[i][j] + b22[i][j] for j in range(half_n)] for i in range(half_n)])\n",
        "    p6 = strassen([[a12[i][j] - a22[i][j] for j in range(half_n)] for i in range(half_n)],\n",
        "                  [[b21[i][j] + b22[i][j] for j in range(half_n)] for i in range(half_n)])\n",
        "    p7 = strassen([[a11[i][j] - a21[i][j] for j in range(half_n)] for i in range(half_n)],\n",
        "                  [[b11[i][j] + b12[i][j] for j in range(half_n)] for i in range(half_n)])\n",
        "\n",
        "    # Combine submatrices to get final result\n",
        "    c11 = [[p5[i][j] + p4[i][j] - p2[i][j] + p6[i][j] for j in range(half_n)] for i in range(half_n)]\n",
        "    c12 = [[p1[i][j] + p2[i][j] for j in range(half_n)] for i in range(half_n)]\n",
        "    c21 = [[p3[i][j] + p4[i][j] for j in range(half_n)] for i in range(half_n)]\n",
        "    c22 = [[p1[i][j] + p5[i][j] - p3[i][j] - p7[i][j] for j in range(half_n)] for i in range(half_n)]\n",
        "\n",
        "    # Remove extra rows and columns from result\n",
        "    if n % 2 != 0:\n",
        "        return [[c11[i][j] for j in range(half_n)] for i in range(half_n)] + \\\n",
        "               [[c12[i][j] for j in range(half_n)] for i in range(half_n)] + \\\n",
        "               [[c21[i][j] for j in range(half_n)] for i in range(half_n)] + \\\n",
        "               [[c22[i][j] for j in range(half_n)] for i in range(half_n)]\n",
        "    else:\n",
        "        return c11 + c12 + c21 + c22\n",
        "\n",
        "a = [[1, 2, 3], [4, 5, 6], [7, 8, 9]]\n",
        "b = [[10, 11, 12], [13, 14, 15], [16, 17, 18]]\n",
        "c = strassen(a, b)\n",
        "print(c)\n",
        "\n"
      ],
      "metadata": {
        "colab": {
          "base_uri": "https://localhost:8080/",
          "height": 356
        },
        "id": "2ZUP-ivnCwBO",
        "outputId": "753a0998-b7b8-40a7-b064-77cb9fd63214"
      },
      "execution_count": 18,
      "outputs": [
        {
          "output_type": "error",
          "ename": "IndexError",
          "evalue": "list index out of range",
          "traceback": [
            "\u001b[0;31m---------------------------------------------------------------------------\u001b[0m",
            "\u001b[0;31mIndexError\u001b[0m                                Traceback (most recent call last)",
            "\u001b[0;32m<ipython-input-18-ea9f467384be>\u001b[0m in \u001b[0;36m<cell line: 56>\u001b[0;34m()\u001b[0m\n\u001b[1;32m     54\u001b[0m \u001b[0ma\u001b[0m \u001b[0;34m=\u001b[0m \u001b[0;34m[\u001b[0m\u001b[0;34m[\u001b[0m\u001b[0;36m1\u001b[0m\u001b[0;34m,\u001b[0m \u001b[0;36m2\u001b[0m\u001b[0;34m,\u001b[0m \u001b[0;36m3\u001b[0m\u001b[0;34m]\u001b[0m\u001b[0;34m,\u001b[0m \u001b[0;34m[\u001b[0m\u001b[0;36m4\u001b[0m\u001b[0;34m,\u001b[0m \u001b[0;36m5\u001b[0m\u001b[0;34m,\u001b[0m \u001b[0;36m6\u001b[0m\u001b[0;34m]\u001b[0m\u001b[0;34m,\u001b[0m \u001b[0;34m[\u001b[0m\u001b[0;36m7\u001b[0m\u001b[0;34m,\u001b[0m \u001b[0;36m8\u001b[0m\u001b[0;34m,\u001b[0m \u001b[0;36m9\u001b[0m\u001b[0;34m]\u001b[0m\u001b[0;34m]\u001b[0m\u001b[0;34m\u001b[0m\u001b[0;34m\u001b[0m\u001b[0m\n\u001b[1;32m     55\u001b[0m \u001b[0mb\u001b[0m \u001b[0;34m=\u001b[0m \u001b[0;34m[\u001b[0m\u001b[0;34m[\u001b[0m\u001b[0;36m10\u001b[0m\u001b[0;34m,\u001b[0m \u001b[0;36m11\u001b[0m\u001b[0;34m,\u001b[0m \u001b[0;36m12\u001b[0m\u001b[0;34m]\u001b[0m\u001b[0;34m,\u001b[0m \u001b[0;34m[\u001b[0m\u001b[0;36m13\u001b[0m\u001b[0;34m,\u001b[0m \u001b[0;36m14\u001b[0m\u001b[0;34m,\u001b[0m \u001b[0;36m15\u001b[0m\u001b[0;34m]\u001b[0m\u001b[0;34m,\u001b[0m \u001b[0;34m[\u001b[0m\u001b[0;36m16\u001b[0m\u001b[0;34m,\u001b[0m \u001b[0;36m17\u001b[0m\u001b[0;34m,\u001b[0m \u001b[0;36m18\u001b[0m\u001b[0;34m]\u001b[0m\u001b[0;34m]\u001b[0m\u001b[0;34m\u001b[0m\u001b[0;34m\u001b[0m\u001b[0m\n\u001b[0;32m---> 56\u001b[0;31m \u001b[0mc\u001b[0m \u001b[0;34m=\u001b[0m \u001b[0mstrassen\u001b[0m\u001b[0;34m(\u001b[0m\u001b[0ma\u001b[0m\u001b[0;34m,\u001b[0m \u001b[0mb\u001b[0m\u001b[0;34m)\u001b[0m\u001b[0;34m\u001b[0m\u001b[0;34m\u001b[0m\u001b[0m\n\u001b[0m\u001b[1;32m     57\u001b[0m \u001b[0mprint\u001b[0m\u001b[0;34m(\u001b[0m\u001b[0mc\u001b[0m\u001b[0;34m)\u001b[0m\u001b[0;34m\u001b[0m\u001b[0;34m\u001b[0m\u001b[0m\n\u001b[1;32m     58\u001b[0m \u001b[0;34m\u001b[0m\u001b[0m\n",
            "\u001b[0;32m<ipython-input-18-ea9f467384be>\u001b[0m in \u001b[0;36mstrassen\u001b[0;34m(a, b)\u001b[0m\n\u001b[1;32m     29\u001b[0m     \u001b[0mp2\u001b[0m \u001b[0;34m=\u001b[0m \u001b[0mstrassen\u001b[0m\u001b[0;34m(\u001b[0m\u001b[0;34m[\u001b[0m\u001b[0;34m[\u001b[0m\u001b[0ma11\u001b[0m\u001b[0;34m[\u001b[0m\u001b[0mi\u001b[0m\u001b[0;34m]\u001b[0m\u001b[0;34m[\u001b[0m\u001b[0mj\u001b[0m\u001b[0;34m]\u001b[0m \u001b[0;34m+\u001b[0m \u001b[0ma12\u001b[0m\u001b[0;34m[\u001b[0m\u001b[0mi\u001b[0m\u001b[0;34m]\u001b[0m\u001b[0;34m[\u001b[0m\u001b[0mj\u001b[0m\u001b[0;34m]\u001b[0m \u001b[0;32mfor\u001b[0m \u001b[0mj\u001b[0m \u001b[0;32min\u001b[0m \u001b[0mrange\u001b[0m\u001b[0;34m(\u001b[0m\u001b[0mhalf_n\u001b[0m\u001b[0;34m)\u001b[0m\u001b[0;34m]\u001b[0m \u001b[0;32mfor\u001b[0m \u001b[0mi\u001b[0m \u001b[0;32min\u001b[0m \u001b[0mrange\u001b[0m\u001b[0;34m(\u001b[0m\u001b[0mhalf_n\u001b[0m\u001b[0;34m)\u001b[0m\u001b[0;34m]\u001b[0m\u001b[0;34m,\u001b[0m \u001b[0mb22\u001b[0m\u001b[0;34m)\u001b[0m\u001b[0;34m\u001b[0m\u001b[0;34m\u001b[0m\u001b[0m\n\u001b[1;32m     30\u001b[0m     \u001b[0mp3\u001b[0m \u001b[0;34m=\u001b[0m \u001b[0mstrassen\u001b[0m\u001b[0;34m(\u001b[0m\u001b[0;34m[\u001b[0m\u001b[0;34m[\u001b[0m\u001b[0ma21\u001b[0m\u001b[0;34m[\u001b[0m\u001b[0mi\u001b[0m\u001b[0;34m]\u001b[0m\u001b[0;34m[\u001b[0m\u001b[0mj\u001b[0m\u001b[0;34m]\u001b[0m \u001b[0;34m+\u001b[0m \u001b[0ma22\u001b[0m\u001b[0;34m[\u001b[0m\u001b[0mi\u001b[0m\u001b[0;34m]\u001b[0m\u001b[0;34m[\u001b[0m\u001b[0mj\u001b[0m\u001b[0;34m]\u001b[0m \u001b[0;32mfor\u001b[0m \u001b[0mj\u001b[0m \u001b[0;32min\u001b[0m \u001b[0mrange\u001b[0m\u001b[0;34m(\u001b[0m\u001b[0mhalf_n\u001b[0m\u001b[0;34m)\u001b[0m\u001b[0;34m]\u001b[0m \u001b[0;32mfor\u001b[0m \u001b[0mi\u001b[0m \u001b[0;32min\u001b[0m \u001b[0mrange\u001b[0m\u001b[0;34m(\u001b[0m\u001b[0mhalf_n\u001b[0m\u001b[0;34m)\u001b[0m\u001b[0;34m]\u001b[0m\u001b[0;34m,\u001b[0m \u001b[0mb11\u001b[0m\u001b[0;34m)\u001b[0m\u001b[0;34m\u001b[0m\u001b[0;34m\u001b[0m\u001b[0m\n\u001b[0;32m---> 31\u001b[0;31m     \u001b[0mp4\u001b[0m \u001b[0;34m=\u001b[0m \u001b[0mstrassen\u001b[0m\u001b[0;34m(\u001b[0m\u001b[0ma22\u001b[0m\u001b[0;34m,\u001b[0m \u001b[0;34m[\u001b[0m\u001b[0;34m[\u001b[0m\u001b[0mb21\u001b[0m\u001b[0;34m[\u001b[0m\u001b[0mi\u001b[0m\u001b[0;34m]\u001b[0m\u001b[0;34m[\u001b[0m\u001b[0mj\u001b[0m\u001b[0;34m]\u001b[0m \u001b[0;34m-\u001b[0m \u001b[0mb11\u001b[0m\u001b[0;34m[\u001b[0m\u001b[0mi\u001b[0m\u001b[0;34m]\u001b[0m\u001b[0;34m[\u001b[0m\u001b[0mj\u001b[0m\u001b[0;34m]\u001b[0m \u001b[0;32mfor\u001b[0m \u001b[0mj\u001b[0m \u001b[0;32min\u001b[0m \u001b[0mrange\u001b[0m\u001b[0;34m(\u001b[0m\u001b[0mhalf_n\u001b[0m\u001b[0;34m)\u001b[0m\u001b[0;34m]\u001b[0m \u001b[0;32mfor\u001b[0m \u001b[0mi\u001b[0m \u001b[0;32min\u001b[0m \u001b[0mrange\u001b[0m\u001b[0;34m(\u001b[0m\u001b[0mhalf_n\u001b[0m\u001b[0;34m)\u001b[0m\u001b[0;34m]\u001b[0m\u001b[0;34m)\u001b[0m\u001b[0;34m\u001b[0m\u001b[0;34m\u001b[0m\u001b[0m\n\u001b[0m\u001b[1;32m     32\u001b[0m     p5 = strassen([[a11[i][j] + a22[i][j] for j in range(half_n)] for i in range(half_n)],\n\u001b[1;32m     33\u001b[0m                   [[b11[i][j] + b22[i][j] for j in range(half_n)] for i in range(half_n)])\n",
            "\u001b[0;32m<ipython-input-18-ea9f467384be>\u001b[0m in \u001b[0;36mstrassen\u001b[0;34m(a, b)\u001b[0m\n\u001b[1;32m     26\u001b[0m \u001b[0;34m\u001b[0m\u001b[0m\n\u001b[1;32m     27\u001b[0m     \u001b[0;31m# Compute submatrices of Strassen's matrix C = A * B\u001b[0m\u001b[0;34m\u001b[0m\u001b[0;34m\u001b[0m\u001b[0m\n\u001b[0;32m---> 28\u001b[0;31m     \u001b[0mp1\u001b[0m \u001b[0;34m=\u001b[0m \u001b[0mstrassen\u001b[0m\u001b[0;34m(\u001b[0m\u001b[0ma11\u001b[0m\u001b[0;34m,\u001b[0m \u001b[0;34m[\u001b[0m\u001b[0;34m[\u001b[0m\u001b[0mb12\u001b[0m\u001b[0;34m[\u001b[0m\u001b[0mi\u001b[0m\u001b[0;34m]\u001b[0m\u001b[0;34m[\u001b[0m\u001b[0mj\u001b[0m\u001b[0;34m]\u001b[0m \u001b[0;34m-\u001b[0m \u001b[0mb22\u001b[0m\u001b[0;34m[\u001b[0m\u001b[0mi\u001b[0m\u001b[0;34m]\u001b[0m\u001b[0;34m[\u001b[0m\u001b[0mj\u001b[0m\u001b[0;34m]\u001b[0m \u001b[0;32mfor\u001b[0m \u001b[0mj\u001b[0m \u001b[0;32min\u001b[0m \u001b[0mrange\u001b[0m\u001b[0;34m(\u001b[0m\u001b[0mhalf_n\u001b[0m\u001b[0;34m)\u001b[0m\u001b[0;34m]\u001b[0m \u001b[0;32mfor\u001b[0m \u001b[0mi\u001b[0m \u001b[0;32min\u001b[0m \u001b[0mrange\u001b[0m\u001b[0;34m(\u001b[0m\u001b[0mhalf_n\u001b[0m\u001b[0;34m)\u001b[0m\u001b[0;34m]\u001b[0m\u001b[0;34m)\u001b[0m\u001b[0;34m\u001b[0m\u001b[0;34m\u001b[0m\u001b[0m\n\u001b[0m\u001b[1;32m     29\u001b[0m     \u001b[0mp2\u001b[0m \u001b[0;34m=\u001b[0m \u001b[0mstrassen\u001b[0m\u001b[0;34m(\u001b[0m\u001b[0;34m[\u001b[0m\u001b[0;34m[\u001b[0m\u001b[0ma11\u001b[0m\u001b[0;34m[\u001b[0m\u001b[0mi\u001b[0m\u001b[0;34m]\u001b[0m\u001b[0;34m[\u001b[0m\u001b[0mj\u001b[0m\u001b[0;34m]\u001b[0m \u001b[0;34m+\u001b[0m \u001b[0ma12\u001b[0m\u001b[0;34m[\u001b[0m\u001b[0mi\u001b[0m\u001b[0;34m]\u001b[0m\u001b[0;34m[\u001b[0m\u001b[0mj\u001b[0m\u001b[0;34m]\u001b[0m \u001b[0;32mfor\u001b[0m \u001b[0mj\u001b[0m \u001b[0;32min\u001b[0m \u001b[0mrange\u001b[0m\u001b[0;34m(\u001b[0m\u001b[0mhalf_n\u001b[0m\u001b[0;34m)\u001b[0m\u001b[0;34m]\u001b[0m \u001b[0;32mfor\u001b[0m \u001b[0mi\u001b[0m \u001b[0;32min\u001b[0m \u001b[0mrange\u001b[0m\u001b[0;34m(\u001b[0m\u001b[0mhalf_n\u001b[0m\u001b[0;34m)\u001b[0m\u001b[0;34m]\u001b[0m\u001b[0;34m,\u001b[0m \u001b[0mb22\u001b[0m\u001b[0;34m)\u001b[0m\u001b[0;34m\u001b[0m\u001b[0;34m\u001b[0m\u001b[0m\n\u001b[1;32m     30\u001b[0m     \u001b[0mp3\u001b[0m \u001b[0;34m=\u001b[0m \u001b[0mstrassen\u001b[0m\u001b[0;34m(\u001b[0m\u001b[0;34m[\u001b[0m\u001b[0;34m[\u001b[0m\u001b[0ma21\u001b[0m\u001b[0;34m[\u001b[0m\u001b[0mi\u001b[0m\u001b[0;34m]\u001b[0m\u001b[0;34m[\u001b[0m\u001b[0mj\u001b[0m\u001b[0;34m]\u001b[0m \u001b[0;34m+\u001b[0m \u001b[0ma22\u001b[0m\u001b[0;34m[\u001b[0m\u001b[0mi\u001b[0m\u001b[0;34m]\u001b[0m\u001b[0;34m[\u001b[0m\u001b[0mj\u001b[0m\u001b[0;34m]\u001b[0m \u001b[0;32mfor\u001b[0m \u001b[0mj\u001b[0m \u001b[0;32min\u001b[0m \u001b[0mrange\u001b[0m\u001b[0;34m(\u001b[0m\u001b[0mhalf_n\u001b[0m\u001b[0;34m)\u001b[0m\u001b[0;34m]\u001b[0m \u001b[0;32mfor\u001b[0m \u001b[0mi\u001b[0m \u001b[0;32min\u001b[0m \u001b[0mrange\u001b[0m\u001b[0;34m(\u001b[0m\u001b[0mhalf_n\u001b[0m\u001b[0;34m)\u001b[0m\u001b[0;34m]\u001b[0m\u001b[0;34m,\u001b[0m \u001b[0mb11\u001b[0m\u001b[0;34m)\u001b[0m\u001b[0;34m\u001b[0m\u001b[0;34m\u001b[0m\u001b[0m\n",
            "\u001b[0;32m<ipython-input-18-ea9f467384be>\u001b[0m in \u001b[0;36m<listcomp>\u001b[0;34m(.0)\u001b[0m\n\u001b[1;32m     26\u001b[0m \u001b[0;34m\u001b[0m\u001b[0m\n\u001b[1;32m     27\u001b[0m     \u001b[0;31m# Compute submatrices of Strassen's matrix C = A * B\u001b[0m\u001b[0;34m\u001b[0m\u001b[0;34m\u001b[0m\u001b[0m\n\u001b[0;32m---> 28\u001b[0;31m     \u001b[0mp1\u001b[0m \u001b[0;34m=\u001b[0m \u001b[0mstrassen\u001b[0m\u001b[0;34m(\u001b[0m\u001b[0ma11\u001b[0m\u001b[0;34m,\u001b[0m \u001b[0;34m[\u001b[0m\u001b[0;34m[\u001b[0m\u001b[0mb12\u001b[0m\u001b[0;34m[\u001b[0m\u001b[0mi\u001b[0m\u001b[0;34m]\u001b[0m\u001b[0;34m[\u001b[0m\u001b[0mj\u001b[0m\u001b[0;34m]\u001b[0m \u001b[0;34m-\u001b[0m \u001b[0mb22\u001b[0m\u001b[0;34m[\u001b[0m\u001b[0mi\u001b[0m\u001b[0;34m]\u001b[0m\u001b[0;34m[\u001b[0m\u001b[0mj\u001b[0m\u001b[0;34m]\u001b[0m \u001b[0;32mfor\u001b[0m \u001b[0mj\u001b[0m \u001b[0;32min\u001b[0m \u001b[0mrange\u001b[0m\u001b[0;34m(\u001b[0m\u001b[0mhalf_n\u001b[0m\u001b[0;34m)\u001b[0m\u001b[0;34m]\u001b[0m \u001b[0;32mfor\u001b[0m \u001b[0mi\u001b[0m \u001b[0;32min\u001b[0m \u001b[0mrange\u001b[0m\u001b[0;34m(\u001b[0m\u001b[0mhalf_n\u001b[0m\u001b[0;34m)\u001b[0m\u001b[0;34m]\u001b[0m\u001b[0;34m)\u001b[0m\u001b[0;34m\u001b[0m\u001b[0;34m\u001b[0m\u001b[0m\n\u001b[0m\u001b[1;32m     29\u001b[0m     \u001b[0mp2\u001b[0m \u001b[0;34m=\u001b[0m \u001b[0mstrassen\u001b[0m\u001b[0;34m(\u001b[0m\u001b[0;34m[\u001b[0m\u001b[0;34m[\u001b[0m\u001b[0ma11\u001b[0m\u001b[0;34m[\u001b[0m\u001b[0mi\u001b[0m\u001b[0;34m]\u001b[0m\u001b[0;34m[\u001b[0m\u001b[0mj\u001b[0m\u001b[0;34m]\u001b[0m \u001b[0;34m+\u001b[0m \u001b[0ma12\u001b[0m\u001b[0;34m[\u001b[0m\u001b[0mi\u001b[0m\u001b[0;34m]\u001b[0m\u001b[0;34m[\u001b[0m\u001b[0mj\u001b[0m\u001b[0;34m]\u001b[0m \u001b[0;32mfor\u001b[0m \u001b[0mj\u001b[0m \u001b[0;32min\u001b[0m \u001b[0mrange\u001b[0m\u001b[0;34m(\u001b[0m\u001b[0mhalf_n\u001b[0m\u001b[0;34m)\u001b[0m\u001b[0;34m]\u001b[0m \u001b[0;32mfor\u001b[0m \u001b[0mi\u001b[0m \u001b[0;32min\u001b[0m \u001b[0mrange\u001b[0m\u001b[0;34m(\u001b[0m\u001b[0mhalf_n\u001b[0m\u001b[0;34m)\u001b[0m\u001b[0;34m]\u001b[0m\u001b[0;34m,\u001b[0m \u001b[0mb22\u001b[0m\u001b[0;34m)\u001b[0m\u001b[0;34m\u001b[0m\u001b[0;34m\u001b[0m\u001b[0m\n\u001b[1;32m     30\u001b[0m     \u001b[0mp3\u001b[0m \u001b[0;34m=\u001b[0m \u001b[0mstrassen\u001b[0m\u001b[0;34m(\u001b[0m\u001b[0;34m[\u001b[0m\u001b[0;34m[\u001b[0m\u001b[0ma21\u001b[0m\u001b[0;34m[\u001b[0m\u001b[0mi\u001b[0m\u001b[0;34m]\u001b[0m\u001b[0;34m[\u001b[0m\u001b[0mj\u001b[0m\u001b[0;34m]\u001b[0m \u001b[0;34m+\u001b[0m \u001b[0ma22\u001b[0m\u001b[0;34m[\u001b[0m\u001b[0mi\u001b[0m\u001b[0;34m]\u001b[0m\u001b[0;34m[\u001b[0m\u001b[0mj\u001b[0m\u001b[0;34m]\u001b[0m \u001b[0;32mfor\u001b[0m \u001b[0mj\u001b[0m \u001b[0;32min\u001b[0m \u001b[0mrange\u001b[0m\u001b[0;34m(\u001b[0m\u001b[0mhalf_n\u001b[0m\u001b[0;34m)\u001b[0m\u001b[0;34m]\u001b[0m \u001b[0;32mfor\u001b[0m \u001b[0mi\u001b[0m \u001b[0;32min\u001b[0m \u001b[0mrange\u001b[0m\u001b[0;34m(\u001b[0m\u001b[0mhalf_n\u001b[0m\u001b[0;34m)\u001b[0m\u001b[0;34m]\u001b[0m\u001b[0;34m,\u001b[0m \u001b[0mb11\u001b[0m\u001b[0;34m)\u001b[0m\u001b[0;34m\u001b[0m\u001b[0;34m\u001b[0m\u001b[0m\n",
            "\u001b[0;32m<ipython-input-18-ea9f467384be>\u001b[0m in \u001b[0;36m<listcomp>\u001b[0;34m(.0)\u001b[0m\n\u001b[1;32m     26\u001b[0m \u001b[0;34m\u001b[0m\u001b[0m\n\u001b[1;32m     27\u001b[0m     \u001b[0;31m# Compute submatrices of Strassen's matrix C = A * B\u001b[0m\u001b[0;34m\u001b[0m\u001b[0;34m\u001b[0m\u001b[0m\n\u001b[0;32m---> 28\u001b[0;31m     \u001b[0mp1\u001b[0m \u001b[0;34m=\u001b[0m \u001b[0mstrassen\u001b[0m\u001b[0;34m(\u001b[0m\u001b[0ma11\u001b[0m\u001b[0;34m,\u001b[0m \u001b[0;34m[\u001b[0m\u001b[0;34m[\u001b[0m\u001b[0mb12\u001b[0m\u001b[0;34m[\u001b[0m\u001b[0mi\u001b[0m\u001b[0;34m]\u001b[0m\u001b[0;34m[\u001b[0m\u001b[0mj\u001b[0m\u001b[0;34m]\u001b[0m \u001b[0;34m-\u001b[0m \u001b[0mb22\u001b[0m\u001b[0;34m[\u001b[0m\u001b[0mi\u001b[0m\u001b[0;34m]\u001b[0m\u001b[0;34m[\u001b[0m\u001b[0mj\u001b[0m\u001b[0;34m]\u001b[0m \u001b[0;32mfor\u001b[0m \u001b[0mj\u001b[0m \u001b[0;32min\u001b[0m \u001b[0mrange\u001b[0m\u001b[0;34m(\u001b[0m\u001b[0mhalf_n\u001b[0m\u001b[0;34m)\u001b[0m\u001b[0;34m]\u001b[0m \u001b[0;32mfor\u001b[0m \u001b[0mi\u001b[0m \u001b[0;32min\u001b[0m \u001b[0mrange\u001b[0m\u001b[0;34m(\u001b[0m\u001b[0mhalf_n\u001b[0m\u001b[0;34m)\u001b[0m\u001b[0;34m]\u001b[0m\u001b[0;34m)\u001b[0m\u001b[0;34m\u001b[0m\u001b[0;34m\u001b[0m\u001b[0m\n\u001b[0m\u001b[1;32m     29\u001b[0m     \u001b[0mp2\u001b[0m \u001b[0;34m=\u001b[0m \u001b[0mstrassen\u001b[0m\u001b[0;34m(\u001b[0m\u001b[0;34m[\u001b[0m\u001b[0;34m[\u001b[0m\u001b[0ma11\u001b[0m\u001b[0;34m[\u001b[0m\u001b[0mi\u001b[0m\u001b[0;34m]\u001b[0m\u001b[0;34m[\u001b[0m\u001b[0mj\u001b[0m\u001b[0;34m]\u001b[0m \u001b[0;34m+\u001b[0m \u001b[0ma12\u001b[0m\u001b[0;34m[\u001b[0m\u001b[0mi\u001b[0m\u001b[0;34m]\u001b[0m\u001b[0;34m[\u001b[0m\u001b[0mj\u001b[0m\u001b[0;34m]\u001b[0m \u001b[0;32mfor\u001b[0m \u001b[0mj\u001b[0m \u001b[0;32min\u001b[0m \u001b[0mrange\u001b[0m\u001b[0;34m(\u001b[0m\u001b[0mhalf_n\u001b[0m\u001b[0;34m)\u001b[0m\u001b[0;34m]\u001b[0m \u001b[0;32mfor\u001b[0m \u001b[0mi\u001b[0m \u001b[0;32min\u001b[0m \u001b[0mrange\u001b[0m\u001b[0;34m(\u001b[0m\u001b[0mhalf_n\u001b[0m\u001b[0;34m)\u001b[0m\u001b[0;34m]\u001b[0m\u001b[0;34m,\u001b[0m \u001b[0mb22\u001b[0m\u001b[0;34m)\u001b[0m\u001b[0;34m\u001b[0m\u001b[0;34m\u001b[0m\u001b[0m\n\u001b[1;32m     30\u001b[0m     \u001b[0mp3\u001b[0m \u001b[0;34m=\u001b[0m \u001b[0mstrassen\u001b[0m\u001b[0;34m(\u001b[0m\u001b[0;34m[\u001b[0m\u001b[0;34m[\u001b[0m\u001b[0ma21\u001b[0m\u001b[0;34m[\u001b[0m\u001b[0mi\u001b[0m\u001b[0;34m]\u001b[0m\u001b[0;34m[\u001b[0m\u001b[0mj\u001b[0m\u001b[0;34m]\u001b[0m \u001b[0;34m+\u001b[0m \u001b[0ma22\u001b[0m\u001b[0;34m[\u001b[0m\u001b[0mi\u001b[0m\u001b[0;34m]\u001b[0m\u001b[0;34m[\u001b[0m\u001b[0mj\u001b[0m\u001b[0;34m]\u001b[0m \u001b[0;32mfor\u001b[0m \u001b[0mj\u001b[0m \u001b[0;32min\u001b[0m \u001b[0mrange\u001b[0m\u001b[0;34m(\u001b[0m\u001b[0mhalf_n\u001b[0m\u001b[0;34m)\u001b[0m\u001b[0;34m]\u001b[0m \u001b[0;32mfor\u001b[0m \u001b[0mi\u001b[0m \u001b[0;32min\u001b[0m \u001b[0mrange\u001b[0m\u001b[0;34m(\u001b[0m\u001b[0mhalf_n\u001b[0m\u001b[0;34m)\u001b[0m\u001b[0;34m]\u001b[0m\u001b[0;34m,\u001b[0m \u001b[0mb11\u001b[0m\u001b[0;34m)\u001b[0m\u001b[0;34m\u001b[0m\u001b[0;34m\u001b[0m\u001b[0m\n",
            "\u001b[0;31mIndexError\u001b[0m: list index out of range"
          ]
        }
      ]
    },
    {
      "cell_type": "code",
      "source": [
        "#KMP string matching\n",
        "\n",
        "\n",
        "def calculate_lps(pat):\n",
        "    lps = [0] * len(pat)\n",
        "    j = 0\n",
        "    i = 1\n",
        "    while i < len(pat):\n",
        "        if pat[i] == pat[j]:\n",
        "            lps[i] = j + 1\n",
        "            i += 1\n",
        "            j += 1\n",
        "        elif j > 0:\n",
        "            j = lps[j - 1]\n",
        "        else:\n",
        "            i += 1\n",
        "    return lps\n",
        "\n",
        "def KMP_search(pat, text):\n",
        "    lps = calculate_lps(pat)\n",
        "    i = 0\n",
        "    j = 0\n",
        "    m = len(pat)\n",
        "    n = len(text)\n",
        "    while i < n:\n",
        "        if text[i] == pat[j]:\n",
        "            i += 1\n",
        "            j += 1\n",
        "            if j == m:\n",
        "                print(\"Found at index {}\".format(i - j))\n",
        "                j = lps[j - 1]\n",
        "        elif j > 0:\n",
        "            j = lps[j - 1]\n",
        "        else:\n",
        "            i += 1\n",
        "\n",
        "txt = \"bacbabababacaca\"\n",
        "pat = \"abac\"\n",
        "KMP_search(pat, txt)"
      ],
      "metadata": {
        "colab": {
          "base_uri": "https://localhost:8080/"
        },
        "id": "FM0pfElBDJ6F",
        "outputId": "734d3949-0222-467d-9c4f-5d0ce0f932e0"
      },
      "execution_count": 19,
      "outputs": [
        {
          "output_type": "stream",
          "name": "stdout",
          "text": [
            "Found at index 8\n"
          ]
        }
      ]
    },
    {
      "cell_type": "code",
      "source": [
        "#Implement DP strategy to solve the Traveling Salesman Problem (TSP).\n",
        "\n",
        "\n",
        "import sys\n",
        "\n",
        "def tsp_dp(dist, n):\n",
        "    # Initialize the memoization table\n",
        "    dp = [[sys.maxsize] * (1 << n) for _ in range(n)]\n",
        "    for i in range(n):\n",
        "        dp[i][1 << i] = 0\n",
        "\n",
        "    # Fill the memoization table\n",
        "    for mask in range(1, (1 << n) - 1):\n",
        "        for i in range(n):\n",
        "            for j in range(n):\n",
        "                if mask & (1 << j) and i != j:\n",
        "                    dp[i][mask] = min(dp[i][mask], dp[j][mask ^ (1 << j)] + dist[j][i])\n",
        "\n",
        "    # Find the minimum distance\n",
        "    min_dist = sys.maxsize\n",
        "    for i in range(n):\n",
        "        min_dist = min(min_dist, dp[i][(1 << n) - 2] + dist[i][0])\n",
        "\n",
        "    return min_dist\n",
        "\n",
        "# Example usage\n",
        "dist = [\n",
        "    [0, 10, 15, 20],\n",
        "    [10, 0, 35, 25],\n",
        "    [15, 35, 0, 30],\n",
        "    [20, 25, 30, 0]\n",
        "]\n",
        "n = len(dist)\n",
        "print(\"Minimum distance:\", tsp_dp(dist, n))\n",
        "\n",
        "\n",
        "dist = [\n",
        "[0, 10, 15, 20],\n",
        "[10, 0, 35, 25],\n",
        "[15, 35, 0, 30],\n",
        "[20, 25, 30, 0]\n",
        "]\n",
        "n = len(dist)\n",
        "print(tsp_dp(dist, n))\n"
      ],
      "metadata": {
        "colab": {
          "base_uri": "https://localhost:8080/"
        },
        "id": "6nuWX_dsDZh8",
        "outputId": "9d3fdd4b-58a1-4f1e-8e75-ae9a7d42fe0f"
      },
      "execution_count": 22,
      "outputs": [
        {
          "output_type": "stream",
          "name": "stdout",
          "text": [
            "Minimum distance: 9223372036854775807\n",
            "9223372036854775807\n"
          ]
        }
      ]
    }
  ]
}